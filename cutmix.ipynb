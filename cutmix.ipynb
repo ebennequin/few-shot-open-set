{
 "cells": [
  {
   "cell_type": "code",
   "execution_count": 1,
   "metadata": {},
   "outputs": [],
   "source": [
    "# import sys  \n",
    "# from pathlib import Path\n",
    "# sys.path[0] = str(Path(sys.path[0]).parent)\n",
    "# print(sys.path)"
   ]
  },
  {
   "cell_type": "code",
   "execution_count": 29,
   "metadata": {},
   "outputs": [],
   "source": [
    "# Imports\n",
    "\n",
    "from loguru import logger\n",
    "from collections import defaultdict\n",
    "from src.outlier_detection_methods import FewShotDetector, NaiveAggregator, local_knn\n",
    "from src.utils.utils import (\n",
    "    set_random_seed, load_model, merge_from_dict\n",
    ")\n",
    "from src.augmentations import __dict__ as AUGMENTATIONS\n",
    "from typing import Dict\n",
    "from types import SimpleNamespace\n",
    "import yaml\n",
    "import numpy as np\n",
    "import matplotlib.pyplot as plt\n",
    "from torch import Tensor\n",
    "from pathlib import Path\n",
    "from mpl_toolkits.axes_grid1 import ImageGrid\n",
    "from src.utils.data_fetchers import get_task_loader, get_test_features\n",
    "import torch"
   ]
  },
  {
   "cell_type": "code",
   "execution_count": 2,
   "metadata": {},
   "outputs": [],
   "source": [
    "# Variables\n",
    "\n",
    "dataset = \"mini_imagenet\"\n",
    "n_way = 5\n",
    "n_shot = 1\n",
    "n_query = 10\n",
    "n_tasks = 100\n",
    "backbone = 'resnet12'\n",
    "training = 'feat'\n",
    "layers='4_2'"
   ]
  },
  {
   "cell_type": "code",
   "execution_count": 3,
   "metadata": {},
   "outputs": [
    {
     "name": "stderr",
     "output_type": "stream",
     "text": [
      "2022-02-02 19:00:14.290 | INFO     | __main__:<module>:3 - Loading data...\n",
      "100%|█████████████████████████████████████████████████████| 12000/12000 [00:00<00:00, 5234156.41it/s]\n"
     ]
    }
   ],
   "source": [
    "# Setup\n",
    "\n",
    "logger.info(\"Loading data...\")\n",
    "data_loader = get_task_loader(dataset,\n",
    "                              n_way,\n",
    "                              n_shot,\n",
    "                              n_query,\n",
    "                              n_tasks,\n",
    "                              split=\"test\",\n",
    "                              n_workers=6)\n",
    "\n",
    "# average_train_features = {}\n",
    "# std_train_features = {}\n",
    "# for layer in layers.split('-'):\n",
    "#     _, _, average_train_features[layer], std_train_features[layer] = get_test_features(\n",
    "#         backbone, dataset, training, layer)\n",
    "\n"
   ]
  },
  {
   "cell_type": "code",
   "execution_count": 40,
   "metadata": {},
   "outputs": [
    {
     "name": "stderr",
     "output_type": "stream",
     "text": [
      "2022-02-02 19:14:12.648 | INFO     | __main__:<module>:1 - Building model...\n",
      "2022-02-02 19:14:12.649 | INFO     | src.utils.utils:load_model:110 - Fetching data...\n",
      "100%|█████████████████████████████████████████████████████| 38400/38400 [00:00<00:00, 5170174.42it/s]\n",
      "2022-02-02 19:14:13.296 | INFO     | src.utils.utils:load_model:113 - Building model...\n",
      "2022-02-02 19:14:13.456 | INFO     | __main__:<module>:8 - Loading mean/std from base set ...\n"
     ]
    },
    {
     "name": "stdout",
     "output_type": "stream",
     "text": [
      "Loaded weights from data/models/resnet12_mini_imagenet_feat.pth\n",
      "Missing keys []\n",
      "Unexpected keys []\n"
     ]
    }
   ],
   "source": [
    "logger.info(\"Building model...\")\n",
    "weights = Path('data') / 'models' / f'{backbone}_{dataset}_{training}.pth'\n",
    "feature_extractor = load_model(backbone=backbone,\n",
    "                               weights=weights,\n",
    "                               dataset_name=dataset,\n",
    "                               device='cuda')\n",
    "\n",
    "logger.info(\"Loading mean/std from base set ...\")"
   ]
  },
  {
   "cell_type": "code",
   "execution_count": null,
   "metadata": {},
   "outputs": [
    {
     "name": "stderr",
     "output_type": "stream",
     "text": [
      "Clipping input data to the valid range for imshow with RGB data ([0..1] for floats or [0..255] for integers).\n",
      "Clipping input data to the valid range for imshow with RGB data ([0..1] for floats or [0..255] for integers).\n",
      "Clipping input data to the valid range for imshow with RGB data ([0..1] for floats or [0..255] for integers).\n",
      "Clipping input data to the valid range for imshow with RGB data ([0..1] for floats or [0..255] for integers).\n",
      "Clipping input data to the valid range for imshow with RGB data ([0..1] for floats or [0..255] for integers).\n"
     ]
    }
   ],
   "source": [
    "for support, support_labels, query, query_labels, _ in data_loader:\n",
    "    plot_grid(support)\n",
    "    augmented = AUGMENTATIONS['cutmix'](support)\n",
    "    break"
   ]
  },
  {
   "cell_type": "code",
   "execution_count": 42,
   "metadata": {},
   "outputs": [],
   "source": [
    "def plot_grid(images: Tensor):\n",
    "    fig = plt.figure(figsize=(15, 75))\n",
    "    grid = ImageGrid(fig, 111,  # similar to subplot(111)\n",
    "                     nrows_ncols=(1, 5),  # creates 2x2 grid of axes\n",
    "                     axes_pad=0.3,  # pad between axes in inch.\n",
    "                     )\n",
    "    std = torch.Tensor([0.229, 0.224, 0.225]).to(images.device).view(3, 1, 1)\n",
    "    mean = torch.Tensor([0.485, 0.456, 0.406]).to(images.device).view(3, 1, 1)\n",
    "    shifted = images * std + mean\n",
    "    for ax, im in zip(grid, images):\n",
    "        # Iterating over the grid returns the Axes.\n",
    "        ax.imshow(im.permute(1, 2, 0))"
   ]
  },
  {
   "cell_type": "code",
   "execution_count": null,
   "metadata": {},
   "outputs": [],
   "source": []
  }
 ],
 "metadata": {
  "kernelspec": {
   "display_name": "Python 3",
   "language": "python",
   "name": "python3"
  },
  "language_info": {
   "codemirror_mode": {
    "name": "ipython",
    "version": 3
   },
   "file_extension": ".py",
   "mimetype": "text/x-python",
   "name": "python",
   "nbconvert_exporter": "python",
   "pygments_lexer": "ipython3",
   "version": "3.8.0"
  }
 },
 "nbformat": 4,
 "nbformat_minor": 2
}
