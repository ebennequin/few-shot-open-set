{
 "cells": [
  {
   "cell_type": "code",
   "execution_count": 1,
   "metadata": {},
   "outputs": [],
   "source": [
    "# import sys  \n",
    "# from pathlib import Path\n",
    "# sys.path[0] = str(Path(sys.path[0]).parent)\n",
    "# print(sys.path)"
   ]
  },
  {
   "cell_type": "code",
   "execution_count": 1,
   "metadata": {},
   "outputs": [],
   "source": [
    "# Imports\n",
    "\n",
    "from loguru import logger\n",
    "from collections import defaultdict\n",
    "from src.outlier_detection_methods import FewShotDetector, NaiveAggregator, local_knn\n",
    "from src.utils.utils import (\n",
    "    set_random_seed, load_model, merge_from_dict\n",
    ")\n",
    "from src.augmentations import __dict__ as AUGMENTATIONS\n",
    "from typing import Dict\n",
    "from types import SimpleNamespace\n",
    "import yaml\n",
    "import numpy as np\n",
    "import matplotlib.pyplot as plt\n",
    "from torch import Tensor\n",
    "from pathlib import Path\n",
    "from mpl_toolkits.axes_grid1 import ImageGrid\n",
    "from src.utils.data_fetchers import get_task_loader, get_test_features\n",
    "import torch\n",
    "from tqdm import tqdm\n",
    "import torch.nn.functional as F"
   ]
  },
  {
   "cell_type": "code",
   "execution_count": 2,
   "metadata": {},
   "outputs": [],
   "source": [
    "# Variables\n",
    "\n",
    "dataset = \"mini_imagenet\"\n",
    "n_way = 5\n",
    "n_shot = 1\n",
    "n_query = 1\n",
    "n_tasks = 1000\n",
    "backbone = 'resnet12'\n",
    "training = 'feat'\n",
    "layers='4_2'"
   ]
  },
  {
   "cell_type": "code",
   "execution_count": 3,
   "metadata": {},
   "outputs": [
    {
     "name": "stderr",
     "output_type": "stream",
     "text": [
      "2022-02-03 15:08:03.902 | INFO     | __main__:<module>:3 - Loading data...\n",
      "100%|██████████| 12000/12000 [00:00<00:00, 2873795.14it/s]\n"
     ]
    }
   ],
   "source": [
    "# Setup\n",
    "\n",
    "logger.info(\"Loading data...\")\n",
    "data_loader = get_task_loader(dataset,\n",
    "                              n_way,\n",
    "                              n_shot,\n",
    "                              n_query,\n",
    "                              n_tasks,\n",
    "                              split=\"test\",\n",
    "                              n_workers=6)\n",
    "\n",
    "# average_train_features = {}\n",
    "# std_train_features = {}\n",
    "# for layer in layers.split('-'):\n",
    "#     _, _, average_train_features[layer], std_train_features[layer] = get_test_features(\n",
    "#         backbone, dataset, training, layer)\n",
    "\n"
   ]
  },
  {
   "cell_type": "code",
   "execution_count": 4,
   "metadata": {},
   "outputs": [
    {
     "name": "stderr",
     "output_type": "stream",
     "text": [
      "2022-02-03 15:08:04.139 | INFO     | __main__:<module>:1 - Building model...\n",
      "2022-02-03 15:08:04.140 | INFO     | src.utils.utils:load_model:110 - Fetching data...\n",
      "100%|██████████| 38400/38400 [00:00<00:00, 2813051.67it/s]\n",
      "2022-02-03 15:08:04.977 | INFO     | src.utils.utils:load_model:113 - Building model...\n",
      "2022-02-03 15:08:07.762 | INFO     | __main__:<module>:9 - Loading mean/std from base set ...\n"
     ]
    },
    {
     "name": "stdout",
     "output_type": "stream",
     "text": [
      "Loaded weights from data/models/resnet12_mini_imagenet_feat.pth\n",
      "Missing keys []\n",
      "Unexpected keys []\n"
     ]
    }
   ],
   "source": [
    "logger.info(\"Building model...\")\n",
    "weights = Path('data') / 'models' / f'{backbone}_{dataset}_{training}.pth'\n",
    "feature_extractor = load_model(backbone=backbone,\n",
    "                               weights=weights,\n",
    "                               dataset_name=dataset,\n",
    "                               device='cuda')\n",
    "feature_extractor.eval()\n",
    "\n",
    "logger.info(\"Loading mean/std from base set ...\")"
   ]
  },
  {
   "cell_type": "code",
   "execution_count": 5,
   "metadata": {},
   "outputs": [],
   "source": [
    "def plot_grid(images: Tensor):\n",
    "    fig = plt.figure(figsize=(15, 75))\n",
    "    grid = ImageGrid(fig, 111,  # similar to subplot(111)\n",
    "                     nrows_ncols=(1, 5),  # creates 2x2 grid of axes\n",
    "                     axes_pad=0.3,  # pad between axes in inch.\n",
    "                     )\n",
    "    std = torch.Tensor([0.229, 0.224, 0.225]).to(images.device).view(3, 1, 1)\n",
    "    mean = torch.Tensor([0.485, 0.456, 0.406]).to(images.device).view(3, 1, 1)\n",
    "    shifted = images * std + mean\n",
    "    for ax, im in zip(grid, shifted):\n",
    "        # Iterating over the grid returns the Axes.\n",
    "        ax.imshow(im.permute(1, 2, 0))\n",
    "        \n",
    "def gram(t1: Tensor, t2: Tensor):\n",
    "    \"\"\"\n",
    "    t1: [N1, d]\n",
    "    t2: [N2, d]\n",
    "    returns: [N1, N2]\n",
    "    \"\"\"\n",
    "    assert len(t1.size()) == 2, \"Only accepts pooled images\"\n",
    "#     t1 = F.normalize(t1, dim=1)\n",
    "#     t2 = F.normalize(t2, dim=1)\n",
    "    return torch.cdist(t1, t2) ** 2"
   ]
  },
  {
   "cell_type": "code",
   "execution_count": 24,
   "metadata": {},
   "outputs": [],
   "source": [
    "def cutmix(support, query):\n",
    "    lam = 0.5\n",
    "\n",
    "    image_h, image_w = support.shape[2:]\n",
    "    cx = np.random.uniform(0, image_w)\n",
    "    cy = np.random.uniform(0, image_h)\n",
    "    w = image_w * np.sqrt(1 - lam)\n",
    "    h = image_h * np.sqrt(1 - lam)\n",
    "    x0 = int(np.round(max(cx - w / 2, 0)))\n",
    "    x1 = int(np.round(min(cx + w / 2, image_w)))\n",
    "    y0 = int(np.round(max(cy - h / 2, 0)))\n",
    "    y1 = int(np.round(min(cy + h / 2, image_h)))\n",
    "\n",
    "    augmented = query.clone()\n",
    "    augmented[:, :, y0:y1, x0:x1] = support[:, :, y0:y1, x0:x1]\n",
    "    return augmented\n",
    "\n",
    "def mixup(support, query):\n",
    "    lam = 0.5\n",
    "    augmented_id = lam * query + (1 - lam) * support\n",
    "    return augmented_id\n",
    "\n",
    "def random_noise(support, query):\n",
    "    return query"
   ]
  },
  {
   "cell_type": "code",
   "execution_count": 25,
   "metadata": {},
   "outputs": [
    {
     "name": "stderr",
     "output_type": "stream",
     "text": [
      "100it [00:02, 37.16it/s]\n",
      "No handles with labels found to put in legend.\n"
     ]
    },
    {
     "data": {
      "image/png": "[encoded data removed]",
      "text/plain": [
       "<Figure size 432x288 with 1 Axes>"
      ]
     },
     "metadata": {
      "needs_background": "light"
     },
     "output_type": "display_data"
    }
   ],
   "source": [
    "# 1 - Check that images and their augmented versions look like each other\n",
    "aug = random_noise\n",
    "sim_ratio_originals = []\n",
    "sim_ratio_mixed = []\n",
    "with torch.no_grad():\n",
    "    for i, (support, support_labels, query, query_labels, _) in tqdm(enumerate(data_loader)):\n",
    "        query_id = query[:5]\n",
    "        query_ood = query[5:]\n",
    "        augmented_id = aug(support, query_id)\n",
    "        augmented_ood = aug(support, query_ood)\n",
    "        \n",
    "#         plot_grid(support)\n",
    "#         plot_grid(augmented_id)\n",
    "#         plot_grid(augmented_ood)\n",
    "        \n",
    "        feat_s = feature_extractor(support.cuda(), layers)[layers].mean((-2, -1)).cpu()\n",
    "        feat_q_id = feature_extractor(query_id.cuda(), layers)[layers].mean((-2, -1)).cpu()\n",
    "        feat_q_ood = feature_extractor(query_ood.cuda(), layers)[layers].mean((-2, -1)).cpu()\n",
    "        aug_feat_q_id = feature_extractor(augmented_id.cuda(), layers)[layers].mean((-2, -1)).cpu()\n",
    "        aug_feat_q_ood = feature_extractor(augmented_ood.cuda(), layers)[layers].mean((-2, -1)).cpu()\n",
    "        \n",
    "        ratio_original = gram(feat_s, feat_q_ood).diagonal() / gram(feat_s, feat_q_id).diagonal()\n",
    "        ratio_mixed = gram(feat_s, aug_feat_q_ood).diagonal() / gram(feat_s, aug_feat_q_id).diagonal()\n",
    "        sim_ratio_originals.append(ratio_original)\n",
    "        sim_ratio_mixed.append(ratio_mixed)\n",
    "        \n",
    "#         logger.info(f\"Separation in embedded space: {sim_ratio_original}\")\n",
    "#         logger.info(f\"Separation in mixed space: {sim_ratio_mixed}\")\n",
    "        #logger.info(f\"Distances between image and mixed: {sim_aug.diagonal()}\")\n",
    "        if i >= 100:\n",
    "            break\n",
    "#     plt.hist(sim_ratio_originals, bins=20, facecolor='brown', alpha=0.5, label='Original')\n",
    "#     plt.hist(sim_ratio_mixed, bins=20, facecolor='orange', alpha=0.5, label='Mixed')\n",
    "    separation_improvement = torch.cat(sim_ratio_mixed) - torch.cat(sim_ratio_originals)\n",
    "    plt.hist(separation_improvement, facecolor='orange', alpha=0.5)\n",
    "    plt.legend()"
   ]
  },
  {
   "cell_type": "code",
   "execution_count": null,
   "metadata": {},
   "outputs": [],
   "source": []
  }
 ],
 "metadata": {
  "kernelspec": {
   "display_name": "Python 3",
   "language": "python",
   "name": "python3"
  },
  "language_info": {
   "codemirror_mode": {
    "name": "ipython",
    "version": 3
   },
   "file_extension": ".py",
   "mimetype": "text/x-python",
   "name": "python",
   "nbconvert_exporter": "python",
   "pygments_lexer": "ipython3",
   "version": "3.8.12"
  }
 },
 "nbformat": 4,
 "nbformat_minor": 2
}
