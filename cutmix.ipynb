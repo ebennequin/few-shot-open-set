{
 "cells": [
  {
   "cell_type": "code",
   "execution_count": 1,
   "metadata": {},
   "outputs": [],
   "source": [
    "# import sys  \n",
    "# from pathlib import Path\n",
    "# sys.path[0] = str(Path(sys.path[0]).parent)\n",
    "# print(sys.path)"
   ]
  },
  {
   "cell_type": "code",
   "execution_count": 2,
   "metadata": {},
   "outputs": [],
   "source": [
    "import argparse\n",
    "from collections import defaultdict\n",
    "from src.utils.utils import (\n",
    "    set_random_seed,\n",
    "    merge_from_dict\n",
    ")\n",
    "import torch\n",
    "from tqdm import tqdm\n",
    "from sklearn.metrics import roc_curve, precision_recall_curve\n",
    "from sklearn.metrics import auc as auc_fn\n",
    "\n",
    "from loguru import logger\n",
    "import os\n",
    "import json\n",
    "import inspect\n",
    "import yaml\n",
    "import numpy as np\n",
    "import itertools\n",
    "from pathlib import Path\n",
    "from src.few_shot_methods import ALL_FEW_SHOT_CLASSIFIERS\n",
    "from src.detectors import ALL_DETECTORS\n",
    "from src.utils.plots_and_metrics import show_all_metrics_and_plots, update_csv\n",
    "from src.utils.data_fetchers import get_task_loader, get_test_features\n",
    "from sklearn.manifold import TSNE\n",
    "import matplotlib.pyplot as plt\n",
    "from src.constants import BACKBONES\n",
    "from types import SimpleNamespace"
   ]
  },
  {
   "cell_type": "code",
   "execution_count": 5,
   "metadata": {},
   "outputs": [],
   "source": [
    "# Variables\n",
    "args = SimpleNamespace()\n",
    "\n",
    "args.src_dataset = \"mini_imagenet\"\n",
    "args.tgt_dataset = \"mini_imagenet\"\n",
    "args.training = \"standard\"\n",
    "args.model_source = \"feat\"\n",
    "args.layers=[\"4_4\"]\n",
    "\n",
    "args.n_way = 5\n",
    "args.n_shot = 1\n",
    "args.n_query = 1\n",
    "args.n_tasks = 1000\n",
    "args.backbone = 'resnet12'\n"
   ]
  },
  {
   "cell_type": "code",
   "execution_count": 6,
   "metadata": {},
   "outputs": [
    {
     "name": "stderr",
     "output_type": "stream",
     "text": [
      "2022-02-23 11:33:08.539 | INFO     | src.utils.data_fetchers:get_test_features:179 - Loading features from data/features/mini_imagenet/mini_imagenet/test/standard/resnet12_mini_imagenet_feat_4_4.pickle\n"
     ]
    },
    {
     "ename": "NameError",
     "evalue": "name 'args' is not defined",
     "output_type": "error",
     "traceback": [
      "\u001b[0;31m---------------------------------------------------------------------------\u001b[0m",
      "\u001b[0;31mNameError\u001b[0m                                 Traceback (most recent call last)",
      "\u001b[0;32m<ipython-input-6-d1881984122c>\u001b[0m in \u001b[0;36m<module>\u001b[0;34m\u001b[0m\n\u001b[1;32m     10\u001b[0m     \u001b[0;32mfor\u001b[0m \u001b[0mclass_\u001b[0m \u001b[0;32min\u001b[0m \u001b[0mfeatures\u001b[0m\u001b[0;34m:\u001b[0m\u001b[0;34m\u001b[0m\u001b[0;34m\u001b[0m\u001b[0m\n\u001b[1;32m     11\u001b[0m         \u001b[0mfeature_dic\u001b[0m\u001b[0;34m[\u001b[0m\u001b[0mclass_\u001b[0m\u001b[0;34m.\u001b[0m\u001b[0mitem\u001b[0m\u001b[0;34m(\u001b[0m\u001b[0;34m)\u001b[0m\u001b[0;34m]\u001b[0m\u001b[0;34m[\u001b[0m\u001b[0mlayer\u001b[0m\u001b[0;34m]\u001b[0m \u001b[0;34m=\u001b[0m \u001b[0mfeatures\u001b[0m\u001b[0;34m[\u001b[0m\u001b[0mclass_\u001b[0m\u001b[0;34m]\u001b[0m\u001b[0;34m\u001b[0m\u001b[0;34m\u001b[0m\u001b[0m\n\u001b[0;32m---> 12\u001b[0;31m data_loader = get_task_loader(args, \"test\", tgt_dataset, n_way, n_shot,\n\u001b[0m\u001b[1;32m     13\u001b[0m                               n_query, n_tasks, n_workers, feature_dic)\n",
      "\u001b[0;31mNameError\u001b[0m: name 'args' is not defined"
     ]
    }
   ],
   "source": [
    "# Setup\n",
    "\n",
    "feature_dic = defaultdict(dict)\n",
    "average_train_features = {}\n",
    "std_train_features = {}\n",
    "for i, layer in enumerate(layers):\n",
    "    features, _, average_train_features[i], std_train_features[i] = get_test_features(\n",
    "        backbone, src_dataset, tgt_dataset, training, model_source, layer\n",
    "    )\n",
    "    for class_ in features:\n",
    "        feature_dic[class_.item()][layer] = features[class_]\n",
    "data_loader = get_task_loader(args, \"test\", tgt_dataset, n_way, n_shot,\n",
    "                              n_query, n_tasks, n_workers, feature_dic)"
   ]
  },
  {
   "cell_type": "code",
   "execution_count": null,
   "metadata": {},
   "outputs": [],
   "source": []
  }
 ],
 "metadata": {
  "kernelspec": {
   "display_name": "Python 3",
   "language": "python",
   "name": "python3"
  },
  "language_info": {
   "codemirror_mode": {
    "name": "ipython",
    "version": 3
   },
   "file_extension": ".py",
   "mimetype": "text/x-python",
   "name": "python",
   "nbconvert_exporter": "python",
   "pygments_lexer": "ipython3",
   "version": "3.8.12"
  }
 },
 "nbformat": 4,
 "nbformat_minor": 2
}
