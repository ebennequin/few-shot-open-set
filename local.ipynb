{
 "cells": [
  {
   "cell_type": "code",
   "execution_count": 7,
   "metadata": {},
   "outputs": [],
   "source": [
    "# import sys  \n",
    "# from pathlib import Path\n",
    "# sys.path[0] = str(Path(sys.path[0]).parent)\n",
    "# print(sys.path)"
   ]
  },
  {
   "cell_type": "code",
   "execution_count": 92,
   "metadata": {},
   "outputs": [],
   "source": [
    "# Imports\n",
    "\n",
    "from loguru import logger\n",
    "from collections import defaultdict\n",
    "from src.outlier_detection_methods import FewShotDetector, NaiveAggregator, local_knn\n",
    "from src.utils.utils import (\n",
    "    set_random_seed, load_model, merge_from_dict\n",
    ")\n",
    "from src.augmentations import __dict__ as AUGMENTATIONS\n",
    "from typing import Dict\n",
    "from types import SimpleNamespace\n",
    "import yaml\n",
    "import numpy as np\n",
    "import matplotlib.pyplot as plt\n",
    "from torch import Tensor\n",
    "from pathlib import Path\n",
    "from mpl_toolkits.axes_grid1 import ImageGrid\n",
    "from src.utils.data_fetchers import get_task_loader, get_test_features\n",
    "from sklearn.metrics import roc_auc_score, roc_curve, auc\n",
    "import torch\n",
    "from tqdm import tqdm\n",
    "import torch.nn.functional as F\n",
    "import torch.nn as nn\n",
    "import pyod"
   ]
  },
  {
   "cell_type": "code",
   "execution_count": 196,
   "metadata": {},
   "outputs": [],
   "source": [
    "# Variables\n",
    "\n",
    "dataset = \"mini_imagenet\"\n",
    "image_size = 84\n",
    "n_way = 5\n",
    "n_shot = 1\n",
    "n_query = 10\n",
    "n_tasks = 500\n",
    "backbone = 'resnet12'\n",
    "training = 'feat'"
   ]
  },
  {
   "cell_type": "code",
   "execution_count": 197,
   "metadata": {},
   "outputs": [
    {
     "name": "stderr",
     "output_type": "stream",
     "text": [
      "2022-02-07 20:56:51.196 | INFO     | __main__:<module>:1 - Building model...\n",
      "2022-02-07 20:56:51.198 | INFO     | src.utils.utils:load_model:110 - Fetching data...\n",
      "100%|██████████| 38400/38400 [00:00<00:00, 2655454.36it/s]\n",
      "2022-02-07 20:56:52.199 | INFO     | src.utils.utils:load_model:113 - Building model...\n"
     ]
    },
    {
     "name": "stdout",
     "output_type": "stream",
     "text": [
      "Loaded weights from data/models/resnet12_mini_imagenet_feat.pth\n",
      "Missing keys []\n",
      "Unexpected keys []\n"
     ]
    },
    {
     "data": {
      "text/plain": [
       "ResNet(\n",
       "  (layer1): Sequential(\n",
       "    (0): BasicBlock(\n",
       "      (conv1): Conv2d(3, 64, kernel_size=(3, 3), stride=(1, 1), padding=(1, 1), bias=False)\n",
       "      (bn1): BatchNorm2d(64, eps=1e-05, momentum=0.1, affine=True, track_running_stats=True)\n",
       "      (relu): LeakyReLU(negative_slope=0.1)\n",
       "      (conv2): Conv2d(64, 64, kernel_size=(3, 3), stride=(1, 1), padding=(1, 1), bias=False)\n",
       "      (bn2): BatchNorm2d(64, eps=1e-05, momentum=0.1, affine=True, track_running_stats=True)\n",
       "      (conv3): Conv2d(64, 64, kernel_size=(3, 3), stride=(1, 1), padding=(1, 1), bias=False)\n",
       "      (bn3): BatchNorm2d(64, eps=1e-05, momentum=0.1, affine=True, track_running_stats=True)\n",
       "      (maxpool): MaxPool2d(kernel_size=2, stride=2, padding=0, dilation=1, ceil_mode=False)\n",
       "      (downsample): Sequential(\n",
       "        (0): Conv2d(3, 64, kernel_size=(1, 1), stride=(1, 1), bias=False)\n",
       "        (1): BatchNorm2d(64, eps=1e-05, momentum=0.1, affine=True, track_running_stats=True)\n",
       "      )\n",
       "      (DropBlock): DropBlock()\n",
       "    )\n",
       "  )\n",
       "  (layer2): Sequential(\n",
       "    (0): BasicBlock(\n",
       "      (conv1): Conv2d(64, 160, kernel_size=(3, 3), stride=(1, 1), padding=(1, 1), bias=False)\n",
       "      (bn1): BatchNorm2d(160, eps=1e-05, momentum=0.1, affine=True, track_running_stats=True)\n",
       "      (relu): LeakyReLU(negative_slope=0.1)\n",
       "      (conv2): Conv2d(160, 160, kernel_size=(3, 3), stride=(1, 1), padding=(1, 1), bias=False)\n",
       "      (bn2): BatchNorm2d(160, eps=1e-05, momentum=0.1, affine=True, track_running_stats=True)\n",
       "      (conv3): Conv2d(160, 160, kernel_size=(3, 3), stride=(1, 1), padding=(1, 1), bias=False)\n",
       "      (bn3): BatchNorm2d(160, eps=1e-05, momentum=0.1, affine=True, track_running_stats=True)\n",
       "      (maxpool): MaxPool2d(kernel_size=2, stride=2, padding=0, dilation=1, ceil_mode=False)\n",
       "      (downsample): Sequential(\n",
       "        (0): Conv2d(64, 160, kernel_size=(1, 1), stride=(1, 1), bias=False)\n",
       "        (1): BatchNorm2d(160, eps=1e-05, momentum=0.1, affine=True, track_running_stats=True)\n",
       "      )\n",
       "      (DropBlock): DropBlock()\n",
       "    )\n",
       "  )\n",
       "  (layer3): Sequential(\n",
       "    (0): BasicBlock(\n",
       "      (conv1): Conv2d(160, 320, kernel_size=(3, 3), stride=(1, 1), padding=(1, 1), bias=False)\n",
       "      (bn1): BatchNorm2d(320, eps=1e-05, momentum=0.1, affine=True, track_running_stats=True)\n",
       "      (relu): LeakyReLU(negative_slope=0.1)\n",
       "      (conv2): Conv2d(320, 320, kernel_size=(3, 3), stride=(1, 1), padding=(1, 1), bias=False)\n",
       "      (bn2): BatchNorm2d(320, eps=1e-05, momentum=0.1, affine=True, track_running_stats=True)\n",
       "      (conv3): Conv2d(320, 320, kernel_size=(3, 3), stride=(1, 1), padding=(1, 1), bias=False)\n",
       "      (bn3): BatchNorm2d(320, eps=1e-05, momentum=0.1, affine=True, track_running_stats=True)\n",
       "      (maxpool): MaxPool2d(kernel_size=2, stride=2, padding=0, dilation=1, ceil_mode=False)\n",
       "      (downsample): Sequential(\n",
       "        (0): Conv2d(160, 320, kernel_size=(1, 1), stride=(1, 1), bias=False)\n",
       "        (1): BatchNorm2d(320, eps=1e-05, momentum=0.1, affine=True, track_running_stats=True)\n",
       "      )\n",
       "      (DropBlock): DropBlock()\n",
       "    )\n",
       "  )\n",
       "  (layer4): Sequential(\n",
       "    (0): BasicBlock(\n",
       "      (conv1): Conv2d(320, 640, kernel_size=(3, 3), stride=(1, 1), padding=(1, 1), bias=False)\n",
       "      (bn1): BatchNorm2d(640, eps=1e-05, momentum=0.1, affine=True, track_running_stats=True)\n",
       "      (relu): LeakyReLU(negative_slope=0.1)\n",
       "      (conv2): Conv2d(640, 640, kernel_size=(3, 3), stride=(1, 1), padding=(1, 1), bias=False)\n",
       "      (bn2): BatchNorm2d(640, eps=1e-05, momentum=0.1, affine=True, track_running_stats=True)\n",
       "      (conv3): Conv2d(640, 640, kernel_size=(3, 3), stride=(1, 1), padding=(1, 1), bias=False)\n",
       "      (bn3): BatchNorm2d(640, eps=1e-05, momentum=0.1, affine=True, track_running_stats=True)\n",
       "      (maxpool): MaxPool2d(kernel_size=2, stride=2, padding=0, dilation=1, ceil_mode=False)\n",
       "      (downsample): Sequential(\n",
       "        (0): Conv2d(320, 640, kernel_size=(1, 1), stride=(1, 1), bias=False)\n",
       "        (1): BatchNorm2d(640, eps=1e-05, momentum=0.1, affine=True, track_running_stats=True)\n",
       "      )\n",
       "      (DropBlock): DropBlock()\n",
       "    )\n",
       "  )\n",
       "  (avgpool): AdaptiveAvgPool2d(output_size=1)\n",
       "  (dropout): Dropout(p=0.0, inplace=False)\n",
       "  (fc): Linear(in_features=640, out_features=64, bias=True)\n",
       ")"
      ]
     },
     "execution_count": 197,
     "metadata": {},
     "output_type": "execute_result"
    }
   ],
   "source": [
    "logger.info(\"Building model...\")\n",
    "weights = Path('data') / 'models' / f'{backbone}_{dataset}_{training}.pth'\n",
    "feature_extractor = load_model(backbone=backbone,\n",
    "                               weights=weights,\n",
    "                               dataset_name=dataset,\n",
    "                               device='cuda')\n",
    "feature_extractor.eval()"
   ]
  },
  {
   "cell_type": "code",
   "execution_count": 198,
   "metadata": {},
   "outputs": [
    {
     "name": "stderr",
     "output_type": "stream",
     "text": [
      "2022-02-07 20:56:55.317 | INFO     | __main__:<module>:1 - Loading data...\n",
      "100%|██████████| 12000/12000 [00:00<00:00, 2738839.20it/s]\n",
      "2022-02-07 20:56:55.589 | INFO     | __main__:<module>:11 - Loading mean/std from base set ...\n",
      "100%|██████████| 5/5 [00:28<00:00,  5.64s/it]\n"
     ]
    }
   ],
   "source": [
    "logger.info(\"Loading data...\")\n",
    "data_loader = get_task_loader(dataset,\n",
    "                              image_size,\n",
    "                              n_way,\n",
    "                              n_shot,\n",
    "                              n_query,\n",
    "                              n_tasks,\n",
    "                              split=\"test\",\n",
    "                              n_workers=4)\n",
    "\n",
    "logger.info(\"Loading mean/std from base set ...\")\n",
    "\n",
    "layers = [f'{i}_{j}' for j in range(5) for i in range(4, 5)]\n",
    "train_mean = {}\n",
    "train_std = {}\n",
    "for layer in tqdm(layers):\n",
    "    _, _, train_mean[layer], train_std[layer] = get_test_features(\n",
    "        backbone, dataset, training, layer)"
   ]
  },
  {
   "cell_type": "markdown",
   "metadata": {},
   "source": [
    "## Utils"
   ]
  },
  {
   "cell_type": "code",
   "execution_count": 75,
   "metadata": {},
   "outputs": [],
   "source": [
    "def plot_grid(images: Tensor):\n",
    "    fig = plt.figure(figsize=(15, 75))\n",
    "    grid = ImageGrid(fig, 111,  # similar to subplot(111)\n",
    "                     nrows_ncols=(3, 3),  # creates 2x2 grid of axes\n",
    "                     axes_pad=0.3,  # pad between axes in inch.\n",
    "                     )\n",
    "    std = torch.Tensor([0.229, 0.224, 0.225]).to(images.device).view(3, 1, 1)\n",
    "    mean = torch.Tensor([0.485, 0.456, 0.406]).to(images.device).view(3, 1, 1)\n",
    "    shifted = images * std + mean\n",
    "    for ax, im in zip(grid, shifted):\n",
    "        # Iterating over the grid returns the Axes.\n",
    "        ax.imshow(im.permute(1, 2, 0))\n",
    "        \n",
    "def gram(t1: Tensor, t2: Tensor):\n",
    "    \"\"\"\n",
    "    t1: [N1, d]\n",
    "    t2: [N2, d]\n",
    "    returns: [N1, N2]\n",
    "    \"\"\"\n",
    "    assert len(t1.size()) == 2, \"Only accepts pooled images\"\n",
    "#     t1 = F.normalize(t1, dim=1)\n",
    "#     t2 = F.normalize(t2, dim=1)\n",
    "    return torch.cdist(t1, t2) ** 2"
   ]
  },
  {
   "cell_type": "code",
   "execution_count": 56,
   "metadata": {},
   "outputs": [],
   "source": [
    "def transform(feat: Tensor, layer: str, center: bool):\n",
    "    if center:\n",
    "        feat = feat - train_features[layer].cuda()\n",
    "    feat = F.normalize(feat, dim=1)\n",
    "    return feat\n",
    "\n",
    "def convolve_feature_maps(support: Tensor, query: Tensor, kernel_size: int):\n",
    "    \"\"\"\n",
    "    map_1: [Ns, c, h, w]\n",
    "    map_2: [Nq, c, h, w]\n",
    "    returns [Nq, Ns, L, h', w']\n",
    "    \"\"\"\n",
    "    kh = kw = kernel_size\n",
    "    N, c, h, w = support.size()\n",
    "    fold_params = dict(kernel_size=(kh, kw), stride=1)\n",
    "    unfold = nn.Unfold(**fold_params)\n",
    "    unfold_map1 = unfold(support) # [N, c*kw*kh, L]\n",
    "    kernels = unfold_map1.view(N, c, kh, kh, -1).permute(0, 4, 1, 2, 3) # [Ns, L, c, kw, kh]\n",
    "    conv_results = []\n",
    "    for kernel in kernels:\n",
    "        conv_results.append(F.conv2d(query, kernel)) # [Nq, L, h', w']\n",
    "    return torch.stack(conv_results, 1) # [Nq, Ns, L, h', w']\n",
    "    "
   ]
  },
  {
   "cell_type": "markdown",
   "metadata": {},
   "source": [
    "## Convolution idea"
   ]
  },
  {
   "cell_type": "code",
   "execution_count": 98,
   "metadata": {},
   "outputs": [
    {
     "name": "stderr",
     "output_type": "stream",
     "text": [
      "0it [00:00, ?it/s]2022-02-06 10:05:43.801 | INFO     | __main__:<module>:16 - torch.Size([10, 5, 64, 8, 8])\n",
      "500it [00:39, 12.52it/s]\n"
     ]
    }
   ],
   "source": [
    "layer = \"4_0\"\n",
    "center = True\n",
    "kh = 3\n",
    "id_scores = []\n",
    "ood_scores = []\n",
    "rocauc = []\n",
    "set_random_seed(2020)\n",
    "with torch.no_grad():\n",
    "    for i, (support, support_labels, query, query_labels, _) in tqdm(enumerate(data_loader)):        \n",
    "        feat_s = feature_extractor(support.cuda(), layer)[layer]\n",
    "        feat_q = feature_extractor(query.cuda(), layer)[layer]\n",
    "        feat_s = transform(feat_s, layer, center)\n",
    "        feat_q = transform(feat_q, layer, center)\n",
    "        convolved_res = convolve_feature_maps(feat_s, feat_q, kh) # [Nq, Ns, L, h', w']\n",
    "        if i == 0:\n",
    "            logger.info(convolved_res.size())\n",
    "        \n",
    "        # 1 - naive solutions\n",
    "#         similarity_scores = convolved_res.view(feat_q.size(0), -1).max(1).values\n",
    "#         similarity_scores = convolved_res.view(feat_q.size(0), -1).mean(1)\n",
    "#         similarity_scores = convolved_res.view(feat_q.size(0), -1).topk(k=30, dim=1).values.mean(1)\n",
    "\n",
    "        # 2 - \"Improved\" solution\n",
    "#         Nq, Ns, L, h, w = convolved_res.size()        \n",
    "#         convolved_res = convolved_res.flatten(start_dim=3) # [Nq, Ns, L, h' * w']\n",
    "#         convolved_res = convolved_res.topk(3, dim=-1).values.mean(-1) # [Nq, Ns, L]\n",
    "#         convolved_res = convolved_res.topk(3, dim=-1).values.mean(-1) # [Nq, Ns]\n",
    "#         print(convolved_res.size())\n",
    "#         similarity_scores = convolved_res.max(-1).values\n",
    "\n",
    "        # 2 - Trying to weight features\n",
    "        similarity_scores = convolved_res.mean((-2, -1)).topk(k=3, dim=2).values.mean(2).max(1).values # [Nq, Ns, L]\n",
    "\n",
    "        id_scores.append(similarity_scores[:n_way * n_query])\n",
    "        ood_scores.append(similarity_scores[n_way * n_query:])\n",
    "        auc = roc_auc_score(np.concatenate([np.zeros(n_way * n_query), np.ones(n_way * n_query)]),\n",
    "                            -similarity_scores.cpu().numpy()\n",
    "                            )\n",
    "        rocauc.append(auc)\n",
    "        if i >= 500:\n",
    "            break"
   ]
  },
  {
   "cell_type": "code",
   "execution_count": 99,
   "metadata": {},
   "outputs": [
    {
     "data": {
      "image/png": "[encoded data removed]",
      "text/plain": [
       "<Figure size 432x288 with 1 Axes>"
      ]
     },
     "metadata": {
      "needs_background": "light"
     },
     "output_type": "display_data"
    }
   ],
   "source": [
    "_ = plt.hist(torch.cat(id_scores).cpu().numpy(), bins=100, facecolor='g', alpha=0.5)\n",
    "_ = plt.hist(torch.cat(ood_scores).cpu().numpy(), bins=100, facecolor='r', alpha=0.5)\n",
    "_ = plt.title(f\"ROC AUC = {np.round(np.mean(rocauc), 4)}\")"
   ]
  },
  {
   "cell_type": "markdown",
   "metadata": {},
   "source": [
    "# Is the last layer always the best ?"
   ]
  },
  {
   "cell_type": "code",
   "execution_count": 194,
   "metadata": {},
   "outputs": [
    {
     "name": "stderr",
     "output_type": "stream",
     "text": [
      "500it [00:49, 10.06it/s]\n"
     ]
    }
   ],
   "source": [
    "layers = [\"4_2\", \"4_3\", \"4_4\"]\n",
    "all_id_scores = []\n",
    "all_ood_scores = []\n",
    "really_all_ood = defaultdict(list)\n",
    "rocauc = []\n",
    "all_best_layers = defaultdict(list)\n",
    "predicted_layers = []\n",
    "kh = 2\n",
    "p = 2\n",
    "detector = pyod.models.knn.KNN(n_neighbors=kh, method='mean', p=p)\n",
    "set_random_seed(0)\n",
    "\n",
    "with torch.no_grad():\n",
    "    for i, (support, support_labels, query, query_labels, true_class_ids) in tqdm(enumerate(data_loader)):\n",
    "        raw_feat_s = feature_extractor(support.cuda(), layers)\n",
    "        raw_feat_q = feature_extractor(query.cuda(), layers)\n",
    "\n",
    "        ood_scores = []\n",
    "        \n",
    "        for layer in layers:\n",
    "            feat_s = raw_feat_s[layer]\n",
    "            feat_q = raw_feat_q[layer]\n",
    "            \n",
    "            feat_s -= train_mean[layer].cuda()\n",
    "            feat_q -= train_mean[layer].cuda()\n",
    "#             feat_s -= feat_s.mean(0, keepdim=True)\n",
    "#             feat_q -= feat_s.mean(0, keepdim=True)\n",
    "        \n",
    "            feat_s = feat_s.mean((-2, -1))\n",
    "            feat_q = feat_q.mean((-2, -1))            \n",
    "\n",
    "            feat_s = F.normalize(feat_s, dim=1, p=p) # [Ns, c]\n",
    "            feat_q = F.normalize(feat_q, dim=1, p=p) # [Nq, c]\n",
    "            \n",
    "            detector.fit(feat_s.cpu())\n",
    "            scores = detector.decision_function(feat_q.cpu()) # [Nq]\n",
    "            scores = (scores - scores.min()) / (scores.max() - scores.min())\n",
    "            assert scores.shape == (2 * n_way * n_query,)\n",
    "            ood_scores.append(scores)\n",
    "            \n",
    "        mask = np.concatenate([- np.ones(n_way * n_query), np.ones(n_way * n_query)])\n",
    "        ood_scores = np.stack(ood_scores, 0) # [Nlayers, Nq]\n",
    "        assert ood_scores.shape == (len(layers), 2 * n_way * n_query), ood_scores.shape\n",
    "        best_layers = (mask * ood_scores).argmax(0) # [Nq]\n",
    "        assert best_layers.shape == (2 * n_way * n_query,)\n",
    "        all_best_layers['id'] += best_layers[:n_way * n_query].tolist()\n",
    "        all_best_layers['ood'] += best_layers[n_way * n_query:].tolist()\n",
    "#         predicted_layer = separation_choice()\n",
    "#         predicted_layers.append(predicted_layer)\n",
    "\n",
    "        chosen_layers = np.random.randint(0, len(layers), 2 * n_way * n_query)\n",
    "#         chosen_layers = best_layers\n",
    "        all_id_scores.append(ood_scores[chosen_layers[:n_way * n_query], np.arange(n_way * n_query)])\n",
    "        all_ood_scores.append(ood_scores[chosen_layers[n_way * n_query:], np.arange(n_way * n_query, 2 * n_way * n_query)])\n",
    "        really_all_ood['id'].append(ood_scores[:, :n_way * n_query])\n",
    "        really_all_ood['ood'].append(ood_scores[:, n_way * n_query:])\n",
    "        gt = np.concatenate([np.zeros(n_way * n_query), np.ones(n_way * n_query)])\n",
    "        auc = roc_auc_score(gt, ood_scores[chosen_layers, np.arange(2 * n_way * n_query)])\n",
    "        rocauc.append(auc)"
   ]
  },
  {
   "cell_type": "code",
   "execution_count": 195,
   "metadata": {},
   "outputs": [
    {
     "data": {
      "image/png": "[encoded data removed]",
      "text/plain": [
       "<Figure size 1080x360 with 2 Axes>"
      ]
     },
     "metadata": {
      "needs_background": "light"
     },
     "output_type": "display_data"
    }
   ],
   "source": [
    "plt.figure(1, (15, 5))\n",
    "plt.subplot(131)\n",
    "_ = plt.hist(np.concatenate(all_id_scores), bins=100, facecolor='g', alpha=0.5)\n",
    "_ = plt.hist(np.concatenate(all_ood_scores), bins=100, facecolor='r', alpha=0.5)\n",
    "_ = plt.title(f\"ROC AUC = {np.round(np.mean(rocauc), 4)}\")\n",
    "plt.subplot(132)\n",
    "_ = plt.hist(all_best_layers['id'], alpha=0.5, label='id')\n",
    "_ = plt.hist(all_best_layers['ood'], alpha=0.5, label='ood')\n",
    "# _ = plt.hist(predicted_layers, alpha=0.5)\n",
    "# layer_pred_accuracy = (np.array(predicted_layers) == np.array(best_layers)).mean()\n",
    "# plt.title(f\"Accuracy of layer prediction {np.round(layer_pred_accuracy, 4)}\")\n",
    "plt.xlabel('Index of best layer')\n",
    "plt.xticks(range(len(layers)), layers)\n",
    "plt.ylabel(\"Frequency\")\n",
    "plt.tight_layout()\n",
    "_ = plt.legend()\n",
    "\n",
    "# plt.subplot(133)\n",
    "# plt.hist(np.concatenate(really_all_ood['id'], 1)[0] / (0.5 + np.concatenate(really_all_ood['id'], 1)[1]), alpha=0.5, label='id')\n",
    "# plt.hist(np.concatenate(really_all_ood['ood'], 1)[0] / (0.5 + np.concatenate(really_all_ood['ood'], 1)[1]), alpha=0.5, label='ood')\n",
    "# plt.legend()"
   ]
  },
  {
   "cell_type": "markdown",
   "metadata": {},
   "source": [
    "# A naive idea : combining the scores of all layers ?"
   ]
  },
  {
   "cell_type": "code",
   "execution_count": 202,
   "metadata": {},
   "outputs": [
    {
     "name": "stderr",
     "output_type": "stream",
     "text": [
      "Exception ignored in: <function _MultiProcessingDataLoaderIter.__del__ at 0x7fc80bf1c700>\n",
      "Traceback (most recent call last):\n",
      "  File \"/home/malik/pytorch/lib/python3.8/site-packages/torch/utils/data/dataloader.py\", line 1328, in __del__\n",
      "    self._shutdown_workers()\n",
      "  File \"/home/malik/pytorch/lib/python3.8/site-packages/torch/utils/data/dataloader.py\", line 1320, in _shutdown_workers\n",
      "    if w.is_alive():\n",
      "  File \"/usr/lib/python3.8/multiprocessing/process.py\", line 160, in is_alive\n",
      "    assert self._parent_pid == os.getpid(), 'can only test a child process'\n",
      "AssertionError: can only test a child process\n",
      "0it [00:00, ?it/s]Exception ignored in: Traceback (most recent call last):\n",
      "<function _MultiProcessingDataLoaderIter.__del__ at 0x7fc80bf1c700>  File \"/usr/lib/python3.8/multiprocessing/queues.py\", line 245, in _feed\n",
      "    send_bytes(obj)\n",
      "\n",
      "Traceback (most recent call last):\n",
      "  File \"/usr/lib/python3.8/multiprocessing/connection.py\", line 200, in send_bytes\n",
      "    self._send_bytes(m[offset:offset + size])\n",
      "  File \"/home/malik/pytorch/lib/python3.8/site-packages/torch/utils/data/dataloader.py\", line 1328, in __del__\n",
      "  File \"/usr/lib/python3.8/multiprocessing/connection.py\", line 411, in _send_bytes\n",
      "    self._send(header + buf)\n",
      "  File \"/usr/lib/python3.8/multiprocessing/connection.py\", line 368, in _send\n",
      "    n = write(self._handle, buf)\n",
      "    BrokenPipeError: [Errno 32] Broken pipe\n",
      "self._shutdown_workers()\n",
      "  File \"/home/malik/pytorch/lib/python3.8/site-packages/torch/utils/data/dataloader.py\", line 1320, in _shutdown_workers\n",
      "    if w.is_alive():\n",
      "  File \"/usr/lib/python3.8/multiprocessing/process.py\", line 160, in is_alive\n",
      "    assert self._parent_pid == os.getpid(), 'can only test a child process'\n",
      "AssertionError: can only test a child process\n",
      "500it [00:58,  8.61it/s]\n"
     ]
    }
   ],
   "source": [
    "layers = [\"4_0\", \"4_2\", \"4_4\"]\n",
    "center = True\n",
    "id_scores = []\n",
    "ood_scores = []\n",
    "kh = 2\n",
    "rocauc = []\n",
    "set_random_seed(0)\n",
    "with torch.no_grad():\n",
    "    for i, (support, support_labels, query, query_labels, _) in tqdm(enumerate(data_loader)):        \n",
    "        all_feat_s = feature_extractor(support.cuda(), layers)\n",
    "        all_feat_q = feature_extractor(query.cuda(), layers)\n",
    "    \n",
    "        sims = []\n",
    "        \n",
    "        for layer in layers:\n",
    "            feat_s = all_feat_s[layer].mean((-2, -1))\n",
    "            feat_q = all_feat_q[layer].mean((-2, -1))\n",
    "            \n",
    "            feat_s -= train_mean[layer].cuda().mean((-2, -1))\n",
    "            feat_q -= train_mean[layer].cuda().mean((-2, -1))        \n",
    "\n",
    "            feat_s = F.normalize(feat_s, dim=1) # [Ns, c]\n",
    "            feat_q = F.normalize(feat_q, dim=1) # [Nq, c]\n",
    "        \n",
    "            similarity_scores = - torch.cdist(feat_s, feat_q)  # [Ns, Nq]\n",
    "            similarity_scores = similarity_scores.topk(k=kh, dim=0).values.mean(0)\n",
    "            \n",
    "#             similarity_scores = (similarity_scores - similarity_scores.min()) / (similarity_scores.max() - similarity_scores.min())\n",
    "            sims.append(similarity_scores)\n",
    "\n",
    "        sims = torch.stack(sims, 0).mean(0)\n",
    "        auc = roc_auc_score(\n",
    "                            np.concatenate([np.zeros(n_way * n_query), np.ones(n_way * n_query)]),\n",
    "                            -sims.cpu().numpy()\n",
    "                            )\n",
    "        id_scores.append(sims[:n_way * n_query])\n",
    "        ood_scores.append(sims[n_way * n_query:])\n",
    "        rocauc.append(auc)\n",
    "        if i >= 1000:\n",
    "            break"
   ]
  },
  {
   "cell_type": "code",
   "execution_count": 203,
   "metadata": {},
   "outputs": [
    {
     "data": {
      "image/png": "[encoded data removed]",
      "text/plain": [
       "<Figure size 432x288 with 2 Axes>"
      ]
     },
     "metadata": {
      "needs_background": "light"
     },
     "output_type": "display_data"
    }
   ],
   "source": [
    "plt.figure(1)\n",
    "plt.subplot(121)\n",
    "_ = plt.hist(torch.cat(id_scores).cpu().numpy(), bins=100, facecolor='g', alpha=0.5)\n",
    "_ = plt.hist(torch.cat(ood_scores).cpu().numpy(), bins=100, facecolor='r', alpha=0.5)\n",
    "_ = plt.title(f\"ROC AUC = {np.round(np.mean(rocauc), 4)}\")\n",
    "plt.subplot(122)\n",
    "plt.tight_layout()"
   ]
  },
  {
   "cell_type": "markdown",
   "metadata": {},
   "source": [
    "### Checking map dimensions"
   ]
  },
  {
   "cell_type": "code",
   "execution_count": 20,
   "metadata": {},
   "outputs": [
    {
     "name": "stderr",
     "output_type": "stream",
     "text": [
      "0it [00:00, ?it/s]\n",
      "2022-02-05 09:21:33.136 | INFO     | __main__:<module>:10 - Layer 1_0 of shape: torch.Size([5, 64, 84, 84])\n",
      "2022-02-05 09:21:33.136 | INFO     | __main__:<module>:10 - Layer 2_0 of shape: torch.Size([5, 160, 42, 42])\n",
      "2022-02-05 09:21:33.137 | INFO     | __main__:<module>:10 - Layer 3_0 of shape: torch.Size([5, 320, 21, 21])\n",
      "2022-02-05 09:21:33.139 | INFO     | __main__:<module>:10 - Layer 4_0 of shape: torch.Size([5, 640, 10, 10])\n"
     ]
    }
   ],
   "source": [
    "# Just checking maps dimensions\n",
    "layers = [f'{i}_0' for i in range(1, 5)]\n",
    "with torch.no_grad():\n",
    "    for i, (support, support_labels, query, query_labels, _) in tqdm(enumerate(data_loader)):        \n",
    "        feat_s = feature_extractor(support.cuda(), layers)\n",
    "        feat_q = feature_extractor(support.cuda(), layers)\n",
    "        break\n",
    "        \n",
    "for layer in feat_s:\n",
    "    logger.info(f\"Layer {layer} of shape: {feat_s[layer].size()}\")"
   ]
  }
 ],
 "metadata": {
  "kernelspec": {
   "display_name": "Python 3",
   "language": "python",
   "name": "python3"
  },
  "language_info": {
   "codemirror_mode": {
    "name": "ipython",
    "version": 3
   },
   "file_extension": ".py",
   "mimetype": "text/x-python",
   "name": "python",
   "nbconvert_exporter": "python",
   "pygments_lexer": "ipython3",
   "version": "3.8.12"
  }
 },
 "nbformat": 4,
 "nbformat_minor": 2
}
