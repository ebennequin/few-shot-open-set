{
 "cells": [
  {
   "cell_type": "code",
   "execution_count": 7,
   "metadata": {},
   "outputs": [],
   "source": [
    "# import sys  \n",
    "# from pathlib import Path\n",
    "# sys.path[0] = str(Path(sys.path[0]).parent)\n",
    "# print(sys.path)"
   ]
  },
  {
   "cell_type": "code",
   "execution_count": 1,
   "metadata": {},
   "outputs": [],
   "source": [
    "# Imports\n",
    "\n",
    "from loguru import logger\n",
    "from collections import defaultdict\n",
    "from src.outlier_detection_methods import FewShotDetector, NaiveAggregator, local_knn\n",
    "from src.utils.utils import (\n",
    "    set_random_seed, load_model, merge_from_dict\n",
    ")\n",
    "from src.augmentations import __dict__ as AUGMENTATIONS\n",
    "from typing import Dict\n",
    "from types import SimpleNamespace\n",
    "import yaml\n",
    "import numpy as np\n",
    "import matplotlib.pyplot as plt\n",
    "from torch import Tensor\n",
    "from pathlib import Path\n",
    "from mpl_toolkits.axes_grid1 import ImageGrid\n",
    "from src.utils.data_fetchers import get_task_loader, get_test_features\n",
    "from sklearn.metrics import roc_auc_score\n",
    "import torch\n",
    "from tqdm import tqdm\n",
    "import torch.nn.functional as F\n",
    "import torch.nn as nn"
   ]
  },
  {
   "cell_type": "code",
   "execution_count": 26,
   "metadata": {},
   "outputs": [],
   "source": [
    "# Variables\n",
    "\n",
    "dataset = \"mini_imagenet\"\n",
    "image_size = 84\n",
    "n_way = 5\n",
    "n_shot = 1\n",
    "n_query = 1\n",
    "n_tasks = 1000\n",
    "backbone = 'resnet12'\n",
    "training = 'feat'"
   ]
  },
  {
   "cell_type": "code",
   "execution_count": 12,
   "metadata": {},
   "outputs": [
    {
     "name": "stderr",
     "output_type": "stream",
     "text": [
      "2022-02-06 11:48:29.522 | INFO     | __main__:<module>:3 - Loading data...\n",
      "100%|██████████| 12000/12000 [00:00<00:00, 2838784.43it/s]\n"
     ]
    }
   ],
   "source": [
    "# Setup\n",
    "\n",
    "logger.info(\"Loading data...\")\n",
    "data_loader = get_task_loader(dataset,\n",
    "                              image_size,\n",
    "                              n_way,\n",
    "                              n_shot,\n",
    "                              n_query,\n",
    "                              n_tasks,\n",
    "                              split=\"test\",\n",
    "                              n_workers=0)"
   ]
  },
  {
   "cell_type": "code",
   "execution_count": 21,
   "metadata": {},
   "outputs": [
    {
     "name": "stderr",
     "output_type": "stream",
     "text": [
      "2022-02-06 12:37:02.235 | INFO     | __main__:<module>:1 - Building model...\n",
      "2022-02-06 12:37:02.236 | INFO     | src.utils.utils:load_model:110 - Fetching data...\n",
      "100%|██████████| 38400/38400 [00:00<00:00, 2752196.20it/s]\n",
      "2022-02-06 12:37:02.965 | INFO     | src.utils.utils:load_model:113 - Building model...\n",
      "2022-02-06 12:37:03.147 | INFO     | __main__:<module>:9 - Loading mean/std from base set ...\n",
      "  0%|          | 0/8 [00:00<?, ?it/s]"
     ]
    },
    {
     "name": "stdout",
     "output_type": "stream",
     "text": [
      "Loaded weights from data/models/resnet12_mini_imagenet_feat.pth\n",
      "Missing keys []\n",
      "Unexpected keys []\n"
     ]
    },
    {
     "name": "stderr",
     "output_type": "stream",
     "text": [
      "100%|██████████| 8/8 [00:52<00:00,  6.53s/it]\n"
     ]
    }
   ],
   "source": [
    "logger.info(\"Building model...\")\n",
    "weights = Path('data') / 'models' / f'{backbone}_{dataset}_{training}.pth'\n",
    "feature_extractor = load_model(backbone=backbone,\n",
    "                               weights=weights,\n",
    "                               dataset_name=dataset,\n",
    "                               device='cuda')\n",
    "feature_extractor.eval()\n",
    "\n",
    "logger.info(\"Loading mean/std from base set ...\")\n",
    "\n",
    "layers = [f'{i}_{j}' for j in range(4) for i in range(3, 5)]\n",
    "train_features = {}\n",
    "std_train_features = {}\n",
    "for layer in tqdm(layers):\n",
    "    _, _, train_features[layer], std_train_features[layer] = get_test_features(\n",
    "        backbone, dataset, training, layer)"
   ]
  },
  {
   "cell_type": "code",
   "execution_count": 14,
   "metadata": {},
   "outputs": [],
   "source": [
    "def plot_grid(images: Tensor):\n",
    "    fig = plt.figure(figsize=(15, 75))\n",
    "    grid = ImageGrid(fig, 111,  # similar to subplot(111)\n",
    "                     nrows_ncols=(3, 3),  # creates 2x2 grid of axes\n",
    "                     axes_pad=0.3,  # pad between axes in inch.\n",
    "                     )\n",
    "    std = torch.Tensor([0.229, 0.224, 0.225]).to(images.device).view(3, 1, 1)\n",
    "    mean = torch.Tensor([0.485, 0.456, 0.406]).to(images.device).view(3, 1, 1)\n",
    "    shifted = images * std + mean\n",
    "    for ax, im in zip(grid, shifted):\n",
    "        # Iterating over the grid returns the Axes.\n",
    "        ax.imshow(im.permute(1, 2, 0))\n",
    "        \n",
    "def gram(t1: Tensor, t2: Tensor):\n",
    "    \"\"\"\n",
    "    t1: [N1, d]\n",
    "    t2: [N2, d]\n",
    "    returns: [N1, N2]\n",
    "    \"\"\"\n",
    "    assert len(t1.size()) == 2, \"Only accepts pooled images\"\n",
    "#     t1 = F.normalize(t1, dim=1)\n",
    "#     t2 = F.normalize(t2, dim=1)\n",
    "    return torch.cdist(t1, t2) ** 2"
   ]
  },
  {
   "cell_type": "code",
   "execution_count": 15,
   "metadata": {},
   "outputs": [],
   "source": [
    "def transform(feat: Tensor, layer: str, center: bool):\n",
    "    if center:\n",
    "        feat = feat - train_features[layer].cuda()\n",
    "    feat = F.normalize(feat, dim=1)\n",
    "    return feat\n",
    "\n",
    "def convolve_feature_maps(support: Tensor, query: Tensor, kernel_size: int):\n",
    "    \"\"\"\n",
    "    map_1: [Ns, c, h, w]\n",
    "    map_2: [Nq, c, h, w]\n",
    "    returns [Nq, Ns, L, h', w']\n",
    "    \"\"\"\n",
    "    kh = kw = kernel_size\n",
    "    N, c, h, w = support.size()\n",
    "    fold_params = dict(kernel_size=(kh, kw), stride=1)\n",
    "    unfold = nn.Unfold(**fold_params)\n",
    "    unfold_map1 = unfold(support) # [N, c*kw*kh, L]\n",
    "    kernels = unfold_map1.view(N, c, kh, kh, -1).permute(0, 4, 1, 2, 3) # [Ns, L, c, kw, kh]\n",
    "    conv_results = []\n",
    "    for kernel in kernels:\n",
    "        conv_results.append(F.conv2d(query, kernel)) # [Nq, L, h', w']\n",
    "    return torch.stack(conv_results, 1) # [Nq, Ns, L, h', w']\n",
    "    "
   ]
  },
  {
   "cell_type": "markdown",
   "metadata": {},
   "source": [
    "### Trying this convolution idea"
   ]
  },
  {
   "cell_type": "code",
   "execution_count": 98,
   "metadata": {},
   "outputs": [
    {
     "name": "stderr",
     "output_type": "stream",
     "text": [
      "0it [00:00, ?it/s]2022-02-06 10:05:43.801 | INFO     | __main__:<module>:16 - torch.Size([10, 5, 64, 8, 8])\n",
      "500it [00:39, 12.52it/s]\n"
     ]
    }
   ],
   "source": [
    "layer = \"4_0\"\n",
    "center = True\n",
    "kh = 3\n",
    "id_scores = []\n",
    "ood_scores = []\n",
    "rocauc = []\n",
    "set_random_seed(2020)\n",
    "with torch.no_grad():\n",
    "    for i, (support, support_labels, query, query_labels, _) in tqdm(enumerate(data_loader)):        \n",
    "        feat_s = feature_extractor(support.cuda(), layer)[layer]\n",
    "        feat_q = feature_extractor(query.cuda(), layer)[layer]\n",
    "        feat_s = transform(feat_s, layer, center)\n",
    "        feat_q = transform(feat_q, layer, center)\n",
    "        convolved_res = convolve_feature_maps(feat_s, feat_q, kh) # [Nq, Ns, L, h', w']\n",
    "        if i == 0:\n",
    "            logger.info(convolved_res.size())\n",
    "        \n",
    "        # 1 - naive solutions\n",
    "#         similarity_scores = convolved_res.view(feat_q.size(0), -1).max(1).values\n",
    "#         similarity_scores = convolved_res.view(feat_q.size(0), -1).mean(1)\n",
    "#         similarity_scores = convolved_res.view(feat_q.size(0), -1).topk(k=30, dim=1).values.mean(1)\n",
    "\n",
    "        # 2 - \"Improved\" solution\n",
    "#         Nq, Ns, L, h, w = convolved_res.size()        \n",
    "#         convolved_res = convolved_res.flatten(start_dim=3) # [Nq, Ns, L, h' * w']\n",
    "#         convolved_res = convolved_res.topk(3, dim=-1).values.mean(-1) # [Nq, Ns, L]\n",
    "#         convolved_res = convolved_res.topk(3, dim=-1).values.mean(-1) # [Nq, Ns]\n",
    "#         print(convolved_res.size())\n",
    "#         similarity_scores = convolved_res.max(-1).values\n",
    "\n",
    "        # 2 - Trying to weight features\n",
    "        similarity_scores = convolved_res.mean((-2, -1)).topk(k=3, dim=2).values.mean(2).max(1).values # [Nq, Ns, L]\n",
    "\n",
    "        id_scores.append(similarity_scores[:n_way * n_query])\n",
    "        ood_scores.append(similarity_scores[n_way * n_query:])\n",
    "        auc = roc_auc_score(np.concatenate([np.zeros(n_way * n_query), np.ones(n_way * n_query)]),\n",
    "                            -similarity_scores.cpu().numpy()\n",
    "                            )\n",
    "        rocauc.append(auc)\n",
    "        if i >= 500:\n",
    "            break"
   ]
  },
  {
   "cell_type": "code",
   "execution_count": 99,
   "metadata": {},
   "outputs": [
    {
     "data": {
      "image/png": "[encoded data removed]",
      "text/plain": [
       "<Figure size 432x288 with 1 Axes>"
      ]
     },
     "metadata": {
      "needs_background": "light"
     },
     "output_type": "display_data"
    }
   ],
   "source": [
    "_ = plt.hist(torch.cat(id_scores).cpu().numpy(), bins=100, facecolor='g', alpha=0.5)\n",
    "_ = plt.hist(torch.cat(ood_scores).cpu().numpy(), bins=100, facecolor='r', alpha=0.5)\n",
    "_ = plt.title(f\"ROC AUC = {np.round(np.mean(rocauc), 4)}\")"
   ]
  },
  {
   "cell_type": "markdown",
   "metadata": {},
   "source": [
    "# Is the last layer always the best ?"
   ]
  },
  {
   "cell_type": "code",
   "execution_count": 23,
   "metadata": {},
   "outputs": [
    {
     "name": "stderr",
     "output_type": "stream",
     "text": [
      "500it [00:43, 11.62it/s]\n"
     ]
    }
   ],
   "source": [
    "layers = [\"3_0\", \"3_1\", \"3_2\", \"3_3\", \"4_0\", \"4_1\", \"4_2\", \"4_3\"]\n",
    "center = True\n",
    "id_scores = []\n",
    "ood_scores = []\n",
    "kh = 2\n",
    "rocauc = []\n",
    "best_layers = []\n",
    "set_random_seed(2020)\n",
    "with torch.no_grad():\n",
    "    for i, (support, support_labels, query, query_labels, _) in tqdm(enumerate(data_loader)):        \n",
    "        all_feat_s = feature_extractor(support.cuda(), layers)\n",
    "        all_feat_q = feature_extractor(query.cuda(), layers)\n",
    "        \n",
    "        layer_aucs = []\n",
    "        sims = []\n",
    "        \n",
    "        for layer in layers:\n",
    "            feat_s = all_feat_s[layer].mean((-2, -1))\n",
    "            feat_q = all_feat_q[layer].mean((-2, -1))\n",
    "            \n",
    "            feat_s -= train_features[layer].cuda().mean((-2, -1))\n",
    "            feat_q -= train_features[layer].cuda().mean((-2, -1))        \n",
    "\n",
    "            feat_s = F.normalize(feat_s, 1) # [Ns, c]\n",
    "            feat_q = F.normalize(feat_q, 1) # [Nq, c]\n",
    "        \n",
    "            similarity_scores = - torch.cdist(feat_s, feat_q) # [Ns, Nq]\n",
    "            similarity_scores = similarity_scores.topk(k=kh, dim=0).values.mean(0)\n",
    "            sims.append(similarity_scores)\n",
    "\n",
    "            auc = roc_auc_score(np.concatenate([np.zeros(n_way * n_query), np.ones(n_way * n_query)]),\n",
    "                                -similarity_scores.cpu().numpy()\n",
    "                                )\n",
    "            layer_aucs.append(auc)\n",
    "        sims = torch.stack(sims, 0)\n",
    "        best_layer = np.argmax(layer_aucs)\n",
    "        id_scores.append(sims[best_layer, :n_way * n_query])\n",
    "        ood_scores.append(sims[best_layer, n_way * n_query:])\n",
    "        best_layers.append(best_layer)\n",
    "        rocauc.append(layer_aucs[best_layer])\n",
    "        if i >= 500:\n",
    "            break"
   ]
  },
  {
   "cell_type": "code",
   "execution_count": 24,
   "metadata": {},
   "outputs": [
    {
     "data": {
      "image/png": "[encoded data removed]",
      "text/plain": [
       "<Figure size 432x288 with 2 Axes>"
      ]
     },
     "metadata": {
      "needs_background": "light"
     },
     "output_type": "display_data"
    }
   ],
   "source": [
    "plt.figure(1)\n",
    "plt.subplot(121)\n",
    "_ = plt.hist(torch.cat(id_scores).cpu().numpy(), bins=100, facecolor='g', alpha=0.5)\n",
    "_ = plt.hist(torch.cat(ood_scores).cpu().numpy(), bins=100, facecolor='r', alpha=0.5)\n",
    "_ = plt.title(f\"ROC AUC = {np.round(np.mean(rocauc), 4)}\")\n",
    "plt.subplot(122)\n",
    "_ = plt.hist(best_layers)\n",
    "plt.xlabel('Index of best layer')\n",
    "plt.ylabel(\"Frequency\")\n",
    "plt.tight_layout()"
   ]
  },
  {
   "cell_type": "markdown",
   "metadata": {},
   "source": [
    "### Checking map dimensions"
   ]
  },
  {
   "cell_type": "code",
   "execution_count": 20,
   "metadata": {},
   "outputs": [
    {
     "name": "stderr",
     "output_type": "stream",
     "text": [
      "0it [00:00, ?it/s]\n",
      "2022-02-05 09:21:33.136 | INFO     | __main__:<module>:10 - Layer 1_0 of shape: torch.Size([5, 64, 84, 84])\n",
      "2022-02-05 09:21:33.136 | INFO     | __main__:<module>:10 - Layer 2_0 of shape: torch.Size([5, 160, 42, 42])\n",
      "2022-02-05 09:21:33.137 | INFO     | __main__:<module>:10 - Layer 3_0 of shape: torch.Size([5, 320, 21, 21])\n",
      "2022-02-05 09:21:33.139 | INFO     | __main__:<module>:10 - Layer 4_0 of shape: torch.Size([5, 640, 10, 10])\n"
     ]
    }
   ],
   "source": [
    "# Just checking maps dimensions\n",
    "layers = [f'{i}_0' for i in range(1, 5)]\n",
    "with torch.no_grad():\n",
    "    for i, (support, support_labels, query, query_labels, _) in tqdm(enumerate(data_loader)):        \n",
    "        feat_s = feature_extractor(support.cuda(), layers)\n",
    "        feat_q = feature_extractor(support.cuda(), layers)\n",
    "        break\n",
    "        \n",
    "for layer in feat_s:\n",
    "    logger.info(f\"Layer {layer} of shape: {feat_s[layer].size()}\")"
   ]
  }
 ],
 "metadata": {
  "kernelspec": {
   "display_name": "Python 3",
   "language": "python",
   "name": "python3"
  },
  "language_info": {
   "codemirror_mode": {
    "name": "ipython",
    "version": 3
   },
   "file_extension": ".py",
   "mimetype": "text/x-python",
   "name": "python",
   "nbconvert_exporter": "python",
   "pygments_lexer": "ipython3",
   "version": "3.8.12"
  }
 },
 "nbformat": 4,
 "nbformat_minor": 2
}
